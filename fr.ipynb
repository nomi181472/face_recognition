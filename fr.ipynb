{
 "cells": [
  {
   "cell_type": "code",
   "execution_count": 1,
   "id": "93db7d16-e8b7-430b-b46f-a40b3de858e6",
   "metadata": {},
   "outputs": [],
   "source": [
    "#pip install torch torchvision numpy facenet-pytorch opencv-python\n"
   ]
  },
  {
   "cell_type": "code",
   "execution_count": 51,
   "id": "3b95daf7-4db2-49a9-919b-1bab4da91110",
   "metadata": {},
   "outputs": [],
   "source": [
    "import torch\n",
    "import torch.nn as nn\n",
    "import torch.optim as optim\n",
    "from torchvision import datasets, transforms\n",
    "from facenet_pytorch import MTCNN, InceptionResnetV1\n",
    "import numpy as np\n",
    "from PIL import Image\n",
    "import os\n",
    "import cv2\n",
    "from tqdm import tqdm"
   ]
  },
  {
   "cell_type": "code",
   "execution_count": 2,
   "id": "7d28ffd5-4c54-4e38-8031-b1233eefb19c",
   "metadata": {},
   "outputs": [],
   "source": [
    "# Hyperparameters\n",
    "num_classes = 31  # Update based on your dataset\n",
    "batch_size = 32\n",
    "learning_rate = 0.001\n",
    "num_epochs = 5"
   ]
  },
  {
   "cell_type": "code",
   "execution_count": 3,
   "id": "2065eaee-e0e1-48fb-bda0-34c0904e3386",
   "metadata": {},
   "outputs": [],
   "source": [
    "# Data transformations\n",
    "data_transforms = {\n",
    "    'train': transforms.Compose([\n",
    "        transforms.Resize((160, 160)),\n",
    "        transforms.RandomHorizontalFlip(),\n",
    "        transforms.ToTensor(),\n",
    "        transforms.Normalize([0.485, 0.456, 0.406], [0.229, 0.224, 0.225])\n",
    "    ]),\n",
    "    'test': transforms.Compose([\n",
    "        transforms.Resize((160, 160)),\n",
    "        transforms.ToTensor(),\n",
    "        transforms.Normalize([0.485, 0.456, 0.406], [0.229, 0.224, 0.225])\n",
    "    ]),\n",
    "}"
   ]
  },
  {
   "cell_type": "code",
   "execution_count": 4,
   "id": "e2f46552-a53b-42c9-9839-6922d627af9f",
   "metadata": {},
   "outputs": [],
   "source": [
    "# Load data\n",
    "data_dir = 'dataset'\n",
    "image_datasets = {x: datasets.ImageFolder(os.path.join(data_dir, x), data_transforms[x]) for x in ['train', 'test']}\n",
    "dataloaders = {x: torch.utils.data.DataLoader(image_datasets[x], batch_size=batch_size, shuffle=True, num_workers=4) for x in ['train', 'test']}\n",
    "dataset_sizes = {x: len(image_datasets[x]) for x in ['train', 'test']}\n",
    "class_names = image_datasets['train'].classes\n",
    "\n"
   ]
  },
  {
   "cell_type": "code",
   "execution_count": 5,
   "id": "a703c7a7-1913-42e9-b081-6fe6a2d898f2",
   "metadata": {},
   "outputs": [
    {
     "name": "stdout",
     "output_type": "stream",
     "text": [
      "Dataset 'train' contains 2562 samples.\n",
      " - Akshay Kumar: 50 samples\n",
      " - Alexandra Daddario: 92 samples\n",
      " - Alia Bhatt: 79 samples\n",
      " - Amitabh Bachchan: 74 samples\n",
      " - Andy Samberg: 92 samples\n",
      " - Anushka Sharma: 68 samples\n",
      " - Billie Eilish: 98 samples\n",
      " - Brad Pitt: 120 samples\n",
      " - Camila Cabello: 87 samples\n",
      " - Charlize Theron: 78 samples\n",
      " - Claire Holt: 96 samples\n",
      " - Courtney Cox: 80 samples\n",
      " - Dwayne Johnson: 61 samples\n",
      " - Elizabeth Olsen: 71 samples\n",
      " - Ellen Degeneres: 75 samples\n",
      " - Henry Cavill: 106 samples\n",
      " - Hrithik Roshan: 101 samples\n",
      " - Hugh Jackman: 112 samples\n",
      " - Jessica Alba: 108 samples\n",
      " - Kashyap: 30 samples\n",
      " - Lisa Kudrow: 70 samples\n",
      " - Margot Robbie: 72 samples\n",
      " - Marmik: 32 samples\n",
      " - Natalie Portman: 105 samples\n",
      " - Priyanka Chopra: 102 samples\n",
      " - Robert Downey Jr: 113 samples\n",
      " - Roger Federer: 77 samples\n",
      " - Tom Cruise: 58 samples\n",
      " - Vijay Deverakonda: 115 samples\n",
      " - Virat Kohli: 49 samples\n",
      " - Zac Efron: 91 samples\n",
      "Dataset 'test' contains 2562 samples.\n",
      " - Akshay Kumar: 50 samples\n",
      " - Alexandra Daddario: 92 samples\n",
      " - Alia Bhatt: 79 samples\n",
      " - Amitabh Bachchan: 74 samples\n",
      " - Andy Samberg: 92 samples\n",
      " - Anushka Sharma: 68 samples\n",
      " - Billie Eilish: 98 samples\n",
      " - Brad Pitt: 120 samples\n",
      " - Camila Cabello: 87 samples\n",
      " - Charlize Theron: 78 samples\n",
      " - Claire Holt: 96 samples\n",
      " - Courtney Cox: 80 samples\n",
      " - Dwayne Johnson: 61 samples\n",
      " - Elizabeth Olsen: 71 samples\n",
      " - Ellen Degeneres: 75 samples\n",
      " - Henry Cavill: 106 samples\n",
      " - Hrithik Roshan: 101 samples\n",
      " - Hugh Jackman: 112 samples\n",
      " - Jessica Alba: 108 samples\n",
      " - Kashyap: 30 samples\n",
      " - Lisa Kudrow: 70 samples\n",
      " - Margot Robbie: 72 samples\n",
      " - Marmik: 32 samples\n",
      " - Natalie Portman: 105 samples\n",
      " - Priyanka Chopra: 102 samples\n",
      " - Robert Downey Jr: 113 samples\n",
      " - Roger Federer: 77 samples\n",
      " - Tom Cruise: 58 samples\n",
      " - Vijay Deverakonda: 115 samples\n",
      " - Virat Kohli: 49 samples\n",
      " - Zac Efron: 91 samples\n"
     ]
    }
   ],
   "source": [
    "# Print dataset details\n",
    "for phase in ['train', 'test']:\n",
    "    print(f\"Dataset '{phase}' contains {dataset_sizes[phase]} samples.\")\n",
    "    for class_name in class_names:\n",
    "        num_samples = len([1 for _, label in image_datasets[phase].samples if image_datasets[phase].class_to_idx[class_name] == label])\n",
    "        print(f\" - {class_name}: {num_samples} samples\")"
   ]
  },
  {
   "cell_type": "code",
   "execution_count": 6,
   "id": "dd5d7ab5-1a9b-4c69-be6e-daa182c5ea1e",
   "metadata": {},
   "outputs": [
    {
     "name": "stdout",
     "output_type": "stream",
     "text": [
      "cpu\n"
     ]
    }
   ],
   "source": [
    "#Device\n",
    "device = torch.device(\"cuda:0\" if torch.cuda.is_available() else \"cpu\")\n",
    "print(device)"
   ]
  },
  {
   "cell_type": "code",
   "execution_count": 7,
   "id": "1bccb0d6-f7a4-4b10-90f4-784aa9be4d80",
   "metadata": {},
   "outputs": [],
   "source": [
    "# Load a pre-trained InceptionResnetV1 model and modify the final layer\n",
    "model = InceptionResnetV1(classify=True, num_classes=31)\n",
    "model = model.to(device)\n"
   ]
  },
  {
   "cell_type": "code",
   "execution_count": 8,
   "id": "f0b202ee-29a1-4004-b27d-89e58ef5251d",
   "metadata": {},
   "outputs": [],
   "source": [
    "criterion = nn.CrossEntropyLoss()\n",
    "optimizer = optim.SGD(model.parameters(), lr=learning_rate, momentum=0.9)\n",
    "scheduler = optim.lr_scheduler.StepLR(optimizer, step_size=7, gamma=0.1)"
   ]
  },
  {
   "cell_type": "code",
   "execution_count": 9,
   "id": "afb2ab30-7413-403d-9eed-a75cb27d7dc7",
   "metadata": {},
   "outputs": [],
   "source": [
    "def train_model(model, criterion, optimizer, scheduler, num_epochs=25):\n",
    "    best_model_wts = model.state_dict()\n",
    "    best_acc = 0.0\n",
    "\n",
    "    for epoch in range(num_epochs):\n",
    "        print(f'Epoch {epoch}/{num_epochs - 1}')\n",
    "        print('-' * 10)\n",
    "\n",
    "        for phase in ['train', 'test']:\n",
    "            if phase == 'train':\n",
    "                model.train()\n",
    "            else:\n",
    "                model.eval()\n",
    "\n",
    "            running_loss = 0.0\n",
    "            running_corrects = 0\n",
    "\n",
    "            for inputs, labels in dataloaders[phase]:\n",
    "                inputs = inputs.to(device)\n",
    "                labels = labels.to(device)\n",
    "\n",
    "                optimizer.zero_grad()\n",
    "\n",
    "                with torch.set_grad_enabled(phase == 'train'):\n",
    "                    outputs = model(inputs)\n",
    "                    _, preds = torch.max(outputs, 1)\n",
    "                    loss = criterion(outputs, labels)\n",
    "\n",
    "                    if phase == 'train':\n",
    "                        loss.backward()\n",
    "                        optimizer.step()\n",
    "\n",
    "                running_loss += loss.item() * inputs.size(0)\n",
    "                running_corrects += torch.sum(preds == labels.data)\n",
    "\n",
    "            if phase == 'train':\n",
    "                scheduler.step()\n",
    "\n",
    "            epoch_loss = running_loss / dataset_sizes[phase]\n",
    "            epoch_acc = running_corrects.double() / dataset_sizes[phase]\n",
    "\n",
    "            print(f'{phase} Loss: {epoch_loss:.4f} Acc: {epoch_acc:.4f}')\n",
    "\n",
    "            if phase == 'test' and epoch_acc > best_acc:\n",
    "                best_acc = epoch_acc\n",
    "                best_model_wts = model.state_dict()\n",
    "\n",
    "        print()\n",
    "\n",
    "    model.load_state_dict(best_model_wts)\n",
    "    return model"
   ]
  },
  {
   "cell_type": "code",
   "execution_count": 10,
   "id": "32b94dbd-e1d7-49b4-a115-2b4ebce13dca",
   "metadata": {},
   "outputs": [
    {
     "name": "stdout",
     "output_type": "stream",
     "text": [
      "Epoch 0/4\n",
      "----------\n",
      "train Loss: 3.4985 Acc: 0.0492\n",
      "test Loss: 3.2533 Acc: 0.1003\n",
      "\n",
      "Epoch 1/4\n",
      "----------\n",
      "train Loss: 3.3248 Acc: 0.0859\n",
      "test Loss: 3.0497 Acc: 0.1483\n",
      "\n",
      "Epoch 2/4\n",
      "----------\n",
      "train Loss: 3.1692 Acc: 0.1183\n",
      "test Loss: 2.8758 Acc: 0.1995\n",
      "\n",
      "Epoch 3/4\n",
      "----------\n",
      "train Loss: 2.9941 Acc: 0.1608\n",
      "test Loss: 2.8592 Acc: 0.1885\n",
      "\n",
      "Epoch 4/4\n",
      "----------\n",
      "train Loss: 2.8264 Acc: 0.1768\n",
      "test Loss: 2.5331 Acc: 0.2685\n",
      "\n"
     ]
    }
   ],
   "source": [
    "# Train and evaluate\n",
    "model = train_model(model, criterion, optimizer, scheduler, num_epochs=num_epochs)\n",
    "\n"
   ]
  },
  {
   "cell_type": "code",
   "execution_count": 10,
   "id": "9fad079d-3b57-4094-a50d-f6da566c62d6",
   "metadata": {},
   "outputs": [],
   "source": [
    "# Save the model\n",
    "torch.save(model.state_dict(), 'face_recognition_model.pth')"
   ]
  },
  {
   "cell_type": "code",
   "execution_count": 11,
   "id": "3f93abee-9b2c-44c2-aa83-475f64294e48",
   "metadata": {},
   "outputs": [],
   "source": [
    "def recognize_faces(image_path, model, mtcnn, device):\n",
    "    image = Image.open(image_path)\n",
    "    boxes, _ = mtcnn.detect(img=image)\n",
    "    \n",
    "    if boxes is None:\n",
    "        print(\"No faces detected.\")\n",
    "        return []\n",
    "\n",
    "    faces = []\n",
    "    for box in boxes:\n",
    "        face = image.crop((box[0], box[1], box[2], box[3]))\n",
    "        face = transforms.functional.to_tensor(face)\n",
    "        face = transforms.functional.resize(face, (160, 160))\n",
    "        face = transforms.functional.normalize(face, [0.485, 0.456, 0.406], [0.229, 0.224, 0.225])\n",
    "        faces.append(face)\n",
    "\n",
    "    faces = torch.stack(faces).to(device)\n",
    "\n",
    "    model.eval()\n",
    "    with torch.no_grad():\n",
    "        outputs = model(faces)\n",
    "        _, preds = torch.max(outputs, 1)\n",
    "\n",
    "    recognized_faces = [class_names[pred] for pred in preds]\n",
    "    return recognized_faces, boxes\n"
   ]
  },
  {
   "cell_type": "code",
   "execution_count": 12,
   "id": "89b32bdd-1c76-453c-9214-f3e6fae7dda9",
   "metadata": {},
   "outputs": [],
   "source": [
    "# Load the model for inference\n",
    "\n",
    "model = InceptionResnetV1(classify=True, num_classes=31)\n",
    "model = model.to(device)\n",
    "\n",
    "model.load_state_dict(torch.load('face_recognition_model.pth'))\n",
    "model = model.to(device)\n"
   ]
  },
  {
   "cell_type": "code",
   "execution_count": 17,
   "id": "35a193f2-fdb0-4385-bf0d-ee3ec2e3fa56",
   "metadata": {},
   "outputs": [
    {
     "name": "stdout",
     "output_type": "stream",
     "text": [
      "Recognized person: Hrithik Roshan, Box: [228.5430145263672 103.81326293945312 378.9773254394531 274.3039855957031]\n"
     ]
    }
   ],
   "source": [
    "# Recognize faces\n",
    "image_path = 'dataset/test/Alia Bhatt/Alia Bhatt_1.jpg'\n",
    "mtcnn = MTCNN(keep_all=True, device=device)\n",
    "recognized_faces, boxes = recognize_faces(image_path, model, mtcnn, device)\n",
    "for face, box in zip(recognized_faces, boxes):\n",
    "    print(f'Recognized person: {face}, Box: {box}')"
   ]
  },
  {
   "cell_type": "code",
   "execution_count": null,
   "id": "f29d7879-83bf-4519-aff4-34b17129cf82",
   "metadata": {},
   "outputs": [],
   "source": [
    "def recognize_faces(image_path, model, mtcnn, device):\n",
    "    image = Image.open(image_path)\n",
    "    boxes, _ = mtcnn.detect(img=image)\n",
    "    \n",
    "    if boxes is None:\n",
    "        print(\"No faces detected.\")\n",
    "        return []\n",
    "\n",
    "    faces = []\n",
    "    for box in boxes:\n",
    "        face = image.crop((box[0], box[1], box[2], box[3]))\n",
    "        face = transforms.functional.to_tensor(face)\n",
    "        face = transforms.functional.resize(face, (160, 160))\n",
    "        face = transforms.functional.normalize(face, [0.485, 0.456, 0.406], [0.229, 0.224, 0.225])\n",
    "        faces.append(face)\n",
    "\n",
    "    faces = torch.stack(faces).to(device)\n",
    "\n",
    "    model.eval()\n",
    "    with torch.no_grad():\n",
    "        outputs = model(faces)\n",
    "        _, preds = torch.max(outputs, 1)\n",
    "\n",
    "    recognized_faces = [class_names[pred] for pred in preds]\n",
    "    return recognized_faces, boxes\n"
   ]
  },
  {
   "cell_type": "code",
   "execution_count": null,
   "id": "63a0eef4-5840-4f09-a7dd-e60df4a3c45d",
   "metadata": {},
   "outputs": [
    {
     "name": "stdout",
     "output_type": "stream",
     "text": [
      "cropped_dataset\\train\\Akshay Kumar\\Akshay Kumar_0.jpg\n",
      "cropped_dataset\\train\\Akshay Kumar\\Akshay Kumar_0.jpg\n",
      "cropped_dataset\\train\\Akshay Kumar\\Akshay Kumar_0.jpg\n",
      "cropped_dataset\\train\\Akshay Kumar\\Akshay Kumar_0.jpg\n",
      "cropped_dataset\\train\\Akshay Kumar\\Akshay Kumar_0.jpg\n",
      "cropped_dataset\\train\\Akshay Kumar\\Akshay Kumar_0.jpg\n",
      "cropped_dataset\\train\\Akshay Kumar\\Akshay Kumar_0.jpg\n",
      "cropped_dataset\\train\\Akshay Kumar\\Akshay Kumar_0.jpg\n",
      "cropped_dataset\\train\\Akshay Kumar\\Akshay Kumar_0.jpg\n",
      "cropped_dataset\\train\\Akshay Kumar\\Akshay Kumar_0.jpg\n",
      "cropped_dataset\\train\\Alexandra Daddario\\Alexandra Daddario_0.jpg\n",
      "cropped_dataset\\train\\Alexandra Daddario\\Alexandra Daddario_0.jpg\n",
      "cropped_dataset\\train\\Alexandra Daddario\\Alexandra Daddario_0.jpg\n",
      "cropped_dataset\\train\\Alexandra Daddario\\Alexandra Daddario_0.jpg\n",
      "cropped_dataset\\train\\Alexandra Daddario\\Alexandra Daddario_0.jpg\n"
     ]
    }
   ],
   "source": [
    "import os\n",
    "parent_path='dataset'\n",
    "test_path='test'\n",
    "train_path='train'\n",
    "cropped_dataset_path='cropped_dataset'\n",
    "if not os.path.exists(cropped_dataset_path):\n",
    "    os.mkdir(cropped_dataset_path)\n",
    "mtcnn = MTCNN(keep_all=True, device=device)\n",
    "for datadirectory in os.listdir(parent_path):\n",
    "    path_to_person=os.path.join(parent_path,datadirectory)\n",
    "    for person_name in os.listdir(path_to_person):\n",
    "        person_images_path=os.path.join(path_to_person,person_name)\n",
    "        all_images_path=os.listdir(person_images_path)\n",
    "        images_for_test=all_images_path[0:10]\n",
    "        images_for_train=all_images_path[10:]\n",
    "        parent_new_path=os.path.join(cropped_dataset_path,'train')\n",
    "        if not os.path.exists(parent_new_path):\n",
    "            os.mkdir(parent_new_path)\n",
    "        for images_path in images_for_test:\n",
    "\n",
    "            image_path=os.path.join(person_images_path,images_path)\n",
    "            image = Image.open(image_path)\n",
    "            boxes, _ = mtcnn.detect(img=image)\n",
    "            if boxes is None:\n",
    "                print(\"No faces detected.\")\n",
    "            else:\n",
    "                faces = []\n",
    "                for box in boxes:\n",
    "                    face = image.crop((box[0], box[1], box[2], box[3]))\n",
    "                    face = transforms.functional.to_tensor(face)\n",
    "                    face = transforms.functional.resize(face, (160, 160))\n",
    "                    face = transforms.functional.normalize(face, [0.485, 0.456, 0.406], [0.229, 0.224, 0.225])\n",
    "                    faces.append(face)\n",
    "                for i in range(len(faces)):\n",
    "                    new_path=os.path.join(parent_new_path,person_name)\n",
    "                    if not os.path.exists(new_path):\n",
    "                        os.mkdir(new_path)\n",
    "                    new_path=os.path.join(new_path,f'{person_name}_{i}.jpg')\n",
    "                    print(new_path)\n",
    "                    cv2.imwrite(new_path,np.array(face[i]))"
   ]
  },
  {
   "cell_type": "code",
   "execution_count": null,
   "id": "17bfb2cd-df43-4283-96b1-37dd06854813",
   "metadata": {},
   "outputs": [],
   "source": []
  }
 ],
 "metadata": {
  "kernelspec": {
   "display_name": "Python 3 (ipykernel)",
   "language": "python",
   "name": "python3"
  },
  "language_info": {
   "codemirror_mode": {
    "name": "ipython",
    "version": 3
   },
   "file_extension": ".py",
   "mimetype": "text/x-python",
   "name": "python",
   "nbconvert_exporter": "python",
   "pygments_lexer": "ipython3",
   "version": "3.11.7"
  }
 },
 "nbformat": 4,
 "nbformat_minor": 5
}
